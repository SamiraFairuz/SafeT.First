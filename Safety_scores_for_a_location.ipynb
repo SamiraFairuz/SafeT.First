{
  "nbformat": 4,
  "nbformat_minor": 0,
  "metadata": {
    "colab": {
      "provenance": []
    },
    "kernelspec": {
      "name": "python3",
      "display_name": "Python 3"
    },
    "language_info": {
      "name": "python"
    }
  },
  "cells": [
    {
      "cell_type": "code",
      "execution_count": null,
      "metadata": {
        "colab": {
          "base_uri": "https://localhost:8080/"
        },
        "id": "ZmJRPG1jwVzW",
        "outputId": "ce79c0fa-f02a-4e44-d31d-17c36a7eaa29"
      },
      "outputs": [
        {
          "output_type": "stream",
          "name": "stdout",
          "text": [
            "Mounted at /content/drive\n"
          ]
        }
      ],
      "source": [
        "from google.colab import drive\n",
        "drive.mount('/content/drive')"
      ]
    },
    {
      "cell_type": "code",
      "source": [
        "import pandas as pd\n",
        "import numpy as np\n",
        "import math"
      ],
      "metadata": {
        "id": "1Pzj6KHbyV65"
      },
      "execution_count": null,
      "outputs": []
    },
    {
      "cell_type": "code",
      "source": [
        "df = pd.read_csv('/content/drive/MyDrive/AI4Good/Dataset_June_8.csv')"
      ],
      "metadata": {
        "id": "u26JAuZByh98"
      },
      "execution_count": null,
      "outputs": []
    },
    {
      "cell_type": "code",
      "source": [
        "# pretending that k=10\n",
        "temp = df.sample(10)\n",
        "\n",
        "temp"
      ],
      "metadata": {
        "colab": {
          "base_uri": "https://localhost:8080/",
          "height": 363
        },
        "id": "5vleBumMyztv",
        "outputId": "7587f03e-71bf-4c34-dba4-d94779a0601c"
      },
      "execution_count": null,
      "outputs": [
        {
          "output_type": "execute_result",
          "data": {
            "text/plain": [
              "        Unnamed: 0   Latitude  Longitude          OFFENCE  DAYS_SINCE\n",
              "261990      300995  43.759817 -79.225321          Robbery      3464.0\n",
              "246731      283570  43.738148 -79.529922  Break and Enter      3305.0\n",
              "120922      139038  43.668202 -79.333620       Auto Theft      1877.0\n",
              "1281          1460  43.642105 -79.404749          Assault       384.0\n",
              "233277      268155  43.677556 -79.313712          Assault      3154.0\n",
              "44561        50968  43.733929 -79.450319       Auto Theft       944.0\n",
              "52747        60289  43.710906 -79.399285       Theft Over      1039.0\n",
              "259138      297698  43.688441 -79.300543          Robbery      3436.0\n",
              "44324        50707  43.672771 -79.321360          Assault       941.0\n",
              "72607        83164  43.711727 -79.373897  Break and Enter      1291.0"
            ],
            "text/html": [
              "\n",
              "  <div id=\"df-d8e9db5f-a2a6-4146-b439-74d0a76c1667\">\n",
              "    <div class=\"colab-df-container\">\n",
              "      <div>\n",
              "<style scoped>\n",
              "    .dataframe tbody tr th:only-of-type {\n",
              "        vertical-align: middle;\n",
              "    }\n",
              "\n",
              "    .dataframe tbody tr th {\n",
              "        vertical-align: top;\n",
              "    }\n",
              "\n",
              "    .dataframe thead th {\n",
              "        text-align: right;\n",
              "    }\n",
              "</style>\n",
              "<table border=\"1\" class=\"dataframe\">\n",
              "  <thead>\n",
              "    <tr style=\"text-align: right;\">\n",
              "      <th></th>\n",
              "      <th>Unnamed: 0</th>\n",
              "      <th>Latitude</th>\n",
              "      <th>Longitude</th>\n",
              "      <th>OFFENCE</th>\n",
              "      <th>DAYS_SINCE</th>\n",
              "    </tr>\n",
              "  </thead>\n",
              "  <tbody>\n",
              "    <tr>\n",
              "      <th>261990</th>\n",
              "      <td>300995</td>\n",
              "      <td>43.759817</td>\n",
              "      <td>-79.225321</td>\n",
              "      <td>Robbery</td>\n",
              "      <td>3464.0</td>\n",
              "    </tr>\n",
              "    <tr>\n",
              "      <th>246731</th>\n",
              "      <td>283570</td>\n",
              "      <td>43.738148</td>\n",
              "      <td>-79.529922</td>\n",
              "      <td>Break and Enter</td>\n",
              "      <td>3305.0</td>\n",
              "    </tr>\n",
              "    <tr>\n",
              "      <th>120922</th>\n",
              "      <td>139038</td>\n",
              "      <td>43.668202</td>\n",
              "      <td>-79.333620</td>\n",
              "      <td>Auto Theft</td>\n",
              "      <td>1877.0</td>\n",
              "    </tr>\n",
              "    <tr>\n",
              "      <th>1281</th>\n",
              "      <td>1460</td>\n",
              "      <td>43.642105</td>\n",
              "      <td>-79.404749</td>\n",
              "      <td>Assault</td>\n",
              "      <td>384.0</td>\n",
              "    </tr>\n",
              "    <tr>\n",
              "      <th>233277</th>\n",
              "      <td>268155</td>\n",
              "      <td>43.677556</td>\n",
              "      <td>-79.313712</td>\n",
              "      <td>Assault</td>\n",
              "      <td>3154.0</td>\n",
              "    </tr>\n",
              "    <tr>\n",
              "      <th>44561</th>\n",
              "      <td>50968</td>\n",
              "      <td>43.733929</td>\n",
              "      <td>-79.450319</td>\n",
              "      <td>Auto Theft</td>\n",
              "      <td>944.0</td>\n",
              "    </tr>\n",
              "    <tr>\n",
              "      <th>52747</th>\n",
              "      <td>60289</td>\n",
              "      <td>43.710906</td>\n",
              "      <td>-79.399285</td>\n",
              "      <td>Theft Over</td>\n",
              "      <td>1039.0</td>\n",
              "    </tr>\n",
              "    <tr>\n",
              "      <th>259138</th>\n",
              "      <td>297698</td>\n",
              "      <td>43.688441</td>\n",
              "      <td>-79.300543</td>\n",
              "      <td>Robbery</td>\n",
              "      <td>3436.0</td>\n",
              "    </tr>\n",
              "    <tr>\n",
              "      <th>44324</th>\n",
              "      <td>50707</td>\n",
              "      <td>43.672771</td>\n",
              "      <td>-79.321360</td>\n",
              "      <td>Assault</td>\n",
              "      <td>941.0</td>\n",
              "    </tr>\n",
              "    <tr>\n",
              "      <th>72607</th>\n",
              "      <td>83164</td>\n",
              "      <td>43.711727</td>\n",
              "      <td>-79.373897</td>\n",
              "      <td>Break and Enter</td>\n",
              "      <td>1291.0</td>\n",
              "    </tr>\n",
              "  </tbody>\n",
              "</table>\n",
              "</div>\n",
              "      <button class=\"colab-df-convert\" onclick=\"convertToInteractive('df-d8e9db5f-a2a6-4146-b439-74d0a76c1667')\"\n",
              "              title=\"Convert this dataframe to an interactive table.\"\n",
              "              style=\"display:none;\">\n",
              "        \n",
              "  <svg xmlns=\"http://www.w3.org/2000/svg\" height=\"24px\"viewBox=\"0 0 24 24\"\n",
              "       width=\"24px\">\n",
              "    <path d=\"M0 0h24v24H0V0z\" fill=\"none\"/>\n",
              "    <path d=\"M18.56 5.44l.94 2.06.94-2.06 2.06-.94-2.06-.94-.94-2.06-.94 2.06-2.06.94zm-11 1L8.5 8.5l.94-2.06 2.06-.94-2.06-.94L8.5 2.5l-.94 2.06-2.06.94zm10 10l.94 2.06.94-2.06 2.06-.94-2.06-.94-.94-2.06-.94 2.06-2.06.94z\"/><path d=\"M17.41 7.96l-1.37-1.37c-.4-.4-.92-.59-1.43-.59-.52 0-1.04.2-1.43.59L10.3 9.45l-7.72 7.72c-.78.78-.78 2.05 0 2.83L4 21.41c.39.39.9.59 1.41.59.51 0 1.02-.2 1.41-.59l7.78-7.78 2.81-2.81c.8-.78.8-2.07 0-2.86zM5.41 20L4 18.59l7.72-7.72 1.47 1.35L5.41 20z\"/>\n",
              "  </svg>\n",
              "      </button>\n",
              "      \n",
              "  <style>\n",
              "    .colab-df-container {\n",
              "      display:flex;\n",
              "      flex-wrap:wrap;\n",
              "      gap: 12px;\n",
              "    }\n",
              "\n",
              "    .colab-df-convert {\n",
              "      background-color: #E8F0FE;\n",
              "      border: none;\n",
              "      border-radius: 50%;\n",
              "      cursor: pointer;\n",
              "      display: none;\n",
              "      fill: #1967D2;\n",
              "      height: 32px;\n",
              "      padding: 0 0 0 0;\n",
              "      width: 32px;\n",
              "    }\n",
              "\n",
              "    .colab-df-convert:hover {\n",
              "      background-color: #E2EBFA;\n",
              "      box-shadow: 0px 1px 2px rgba(60, 64, 67, 0.3), 0px 1px 3px 1px rgba(60, 64, 67, 0.15);\n",
              "      fill: #174EA6;\n",
              "    }\n",
              "\n",
              "    [theme=dark] .colab-df-convert {\n",
              "      background-color: #3B4455;\n",
              "      fill: #D2E3FC;\n",
              "    }\n",
              "\n",
              "    [theme=dark] .colab-df-convert:hover {\n",
              "      background-color: #434B5C;\n",
              "      box-shadow: 0px 1px 3px 1px rgba(0, 0, 0, 0.15);\n",
              "      filter: drop-shadow(0px 1px 2px rgba(0, 0, 0, 0.3));\n",
              "      fill: #FFFFFF;\n",
              "    }\n",
              "  </style>\n",
              "\n",
              "      <script>\n",
              "        const buttonEl =\n",
              "          document.querySelector('#df-d8e9db5f-a2a6-4146-b439-74d0a76c1667 button.colab-df-convert');\n",
              "        buttonEl.style.display =\n",
              "          google.colab.kernel.accessAllowed ? 'block' : 'none';\n",
              "\n",
              "        async function convertToInteractive(key) {\n",
              "          const element = document.querySelector('#df-d8e9db5f-a2a6-4146-b439-74d0a76c1667');\n",
              "          const dataTable =\n",
              "            await google.colab.kernel.invokeFunction('convertToInteractive',\n",
              "                                                     [key], {});\n",
              "          if (!dataTable) return;\n",
              "\n",
              "          const docLinkHtml = 'Like what you see? Visit the ' +\n",
              "            '<a target=\"_blank\" href=https://colab.research.google.com/notebooks/data_table.ipynb>data table notebook</a>'\n",
              "            + ' to learn more about interactive tables.';\n",
              "          element.innerHTML = '';\n",
              "          dataTable['output_type'] = 'display_data';\n",
              "          await google.colab.output.renderOutput(dataTable, element);\n",
              "          const docLink = document.createElement('div');\n",
              "          docLink.innerHTML = docLinkHtml;\n",
              "          element.appendChild(docLink);\n",
              "        }\n",
              "      </script>\n",
              "    </div>\n",
              "  </div>\n",
              "  "
            ]
          },
          "metadata": {},
          "execution_count": 31
        }
      ]
    },
    {
      "cell_type": "code",
      "source": [
        "dict_offense = {'Assault': 9, 'Break and Enter': 1, 'Robbery': 5, 'Auto Theft': 1, 'Homicide': 15, 'Theft Over': 10}\n",
        "\n",
        "temp2=temp.replace({\"OFFENCE\": dict_offense})\n",
        "\n",
        "temp2"
      ],
      "metadata": {
        "colab": {
          "base_uri": "https://localhost:8080/",
          "height": 363
        },
        "id": "35cH7N_rClik",
        "outputId": "4ee8b984-0628-4852-fe18-cc348fe8d9a9"
      },
      "execution_count": null,
      "outputs": [
        {
          "output_type": "execute_result",
          "data": {
            "text/plain": [
              "        Unnamed: 0   Latitude  Longitude  OFFENCE  DAYS_SINCE\n",
              "261990      300995  43.759817 -79.225321        5      3464.0\n",
              "246731      283570  43.738148 -79.529922        1      3305.0\n",
              "120922      139038  43.668202 -79.333620        1      1877.0\n",
              "1281          1460  43.642105 -79.404749        9       384.0\n",
              "233277      268155  43.677556 -79.313712        9      3154.0\n",
              "44561        50968  43.733929 -79.450319        1       944.0\n",
              "52747        60289  43.710906 -79.399285       10      1039.0\n",
              "259138      297698  43.688441 -79.300543        5      3436.0\n",
              "44324        50707  43.672771 -79.321360        9       941.0\n",
              "72607        83164  43.711727 -79.373897        1      1291.0"
            ],
            "text/html": [
              "\n",
              "  <div id=\"df-abcf948f-b026-4206-a770-09c1b1d257ca\">\n",
              "    <div class=\"colab-df-container\">\n",
              "      <div>\n",
              "<style scoped>\n",
              "    .dataframe tbody tr th:only-of-type {\n",
              "        vertical-align: middle;\n",
              "    }\n",
              "\n",
              "    .dataframe tbody tr th {\n",
              "        vertical-align: top;\n",
              "    }\n",
              "\n",
              "    .dataframe thead th {\n",
              "        text-align: right;\n",
              "    }\n",
              "</style>\n",
              "<table border=\"1\" class=\"dataframe\">\n",
              "  <thead>\n",
              "    <tr style=\"text-align: right;\">\n",
              "      <th></th>\n",
              "      <th>Unnamed: 0</th>\n",
              "      <th>Latitude</th>\n",
              "      <th>Longitude</th>\n",
              "      <th>OFFENCE</th>\n",
              "      <th>DAYS_SINCE</th>\n",
              "    </tr>\n",
              "  </thead>\n",
              "  <tbody>\n",
              "    <tr>\n",
              "      <th>261990</th>\n",
              "      <td>300995</td>\n",
              "      <td>43.759817</td>\n",
              "      <td>-79.225321</td>\n",
              "      <td>5</td>\n",
              "      <td>3464.0</td>\n",
              "    </tr>\n",
              "    <tr>\n",
              "      <th>246731</th>\n",
              "      <td>283570</td>\n",
              "      <td>43.738148</td>\n",
              "      <td>-79.529922</td>\n",
              "      <td>1</td>\n",
              "      <td>3305.0</td>\n",
              "    </tr>\n",
              "    <tr>\n",
              "      <th>120922</th>\n",
              "      <td>139038</td>\n",
              "      <td>43.668202</td>\n",
              "      <td>-79.333620</td>\n",
              "      <td>1</td>\n",
              "      <td>1877.0</td>\n",
              "    </tr>\n",
              "    <tr>\n",
              "      <th>1281</th>\n",
              "      <td>1460</td>\n",
              "      <td>43.642105</td>\n",
              "      <td>-79.404749</td>\n",
              "      <td>9</td>\n",
              "      <td>384.0</td>\n",
              "    </tr>\n",
              "    <tr>\n",
              "      <th>233277</th>\n",
              "      <td>268155</td>\n",
              "      <td>43.677556</td>\n",
              "      <td>-79.313712</td>\n",
              "      <td>9</td>\n",
              "      <td>3154.0</td>\n",
              "    </tr>\n",
              "    <tr>\n",
              "      <th>44561</th>\n",
              "      <td>50968</td>\n",
              "      <td>43.733929</td>\n",
              "      <td>-79.450319</td>\n",
              "      <td>1</td>\n",
              "      <td>944.0</td>\n",
              "    </tr>\n",
              "    <tr>\n",
              "      <th>52747</th>\n",
              "      <td>60289</td>\n",
              "      <td>43.710906</td>\n",
              "      <td>-79.399285</td>\n",
              "      <td>10</td>\n",
              "      <td>1039.0</td>\n",
              "    </tr>\n",
              "    <tr>\n",
              "      <th>259138</th>\n",
              "      <td>297698</td>\n",
              "      <td>43.688441</td>\n",
              "      <td>-79.300543</td>\n",
              "      <td>5</td>\n",
              "      <td>3436.0</td>\n",
              "    </tr>\n",
              "    <tr>\n",
              "      <th>44324</th>\n",
              "      <td>50707</td>\n",
              "      <td>43.672771</td>\n",
              "      <td>-79.321360</td>\n",
              "      <td>9</td>\n",
              "      <td>941.0</td>\n",
              "    </tr>\n",
              "    <tr>\n",
              "      <th>72607</th>\n",
              "      <td>83164</td>\n",
              "      <td>43.711727</td>\n",
              "      <td>-79.373897</td>\n",
              "      <td>1</td>\n",
              "      <td>1291.0</td>\n",
              "    </tr>\n",
              "  </tbody>\n",
              "</table>\n",
              "</div>\n",
              "      <button class=\"colab-df-convert\" onclick=\"convertToInteractive('df-abcf948f-b026-4206-a770-09c1b1d257ca')\"\n",
              "              title=\"Convert this dataframe to an interactive table.\"\n",
              "              style=\"display:none;\">\n",
              "        \n",
              "  <svg xmlns=\"http://www.w3.org/2000/svg\" height=\"24px\"viewBox=\"0 0 24 24\"\n",
              "       width=\"24px\">\n",
              "    <path d=\"M0 0h24v24H0V0z\" fill=\"none\"/>\n",
              "    <path d=\"M18.56 5.44l.94 2.06.94-2.06 2.06-.94-2.06-.94-.94-2.06-.94 2.06-2.06.94zm-11 1L8.5 8.5l.94-2.06 2.06-.94-2.06-.94L8.5 2.5l-.94 2.06-2.06.94zm10 10l.94 2.06.94-2.06 2.06-.94-2.06-.94-.94-2.06-.94 2.06-2.06.94z\"/><path d=\"M17.41 7.96l-1.37-1.37c-.4-.4-.92-.59-1.43-.59-.52 0-1.04.2-1.43.59L10.3 9.45l-7.72 7.72c-.78.78-.78 2.05 0 2.83L4 21.41c.39.39.9.59 1.41.59.51 0 1.02-.2 1.41-.59l7.78-7.78 2.81-2.81c.8-.78.8-2.07 0-2.86zM5.41 20L4 18.59l7.72-7.72 1.47 1.35L5.41 20z\"/>\n",
              "  </svg>\n",
              "      </button>\n",
              "      \n",
              "  <style>\n",
              "    .colab-df-container {\n",
              "      display:flex;\n",
              "      flex-wrap:wrap;\n",
              "      gap: 12px;\n",
              "    }\n",
              "\n",
              "    .colab-df-convert {\n",
              "      background-color: #E8F0FE;\n",
              "      border: none;\n",
              "      border-radius: 50%;\n",
              "      cursor: pointer;\n",
              "      display: none;\n",
              "      fill: #1967D2;\n",
              "      height: 32px;\n",
              "      padding: 0 0 0 0;\n",
              "      width: 32px;\n",
              "    }\n",
              "\n",
              "    .colab-df-convert:hover {\n",
              "      background-color: #E2EBFA;\n",
              "      box-shadow: 0px 1px 2px rgba(60, 64, 67, 0.3), 0px 1px 3px 1px rgba(60, 64, 67, 0.15);\n",
              "      fill: #174EA6;\n",
              "    }\n",
              "\n",
              "    [theme=dark] .colab-df-convert {\n",
              "      background-color: #3B4455;\n",
              "      fill: #D2E3FC;\n",
              "    }\n",
              "\n",
              "    [theme=dark] .colab-df-convert:hover {\n",
              "      background-color: #434B5C;\n",
              "      box-shadow: 0px 1px 3px 1px rgba(0, 0, 0, 0.15);\n",
              "      filter: drop-shadow(0px 1px 2px rgba(0, 0, 0, 0.3));\n",
              "      fill: #FFFFFF;\n",
              "    }\n",
              "  </style>\n",
              "\n",
              "      <script>\n",
              "        const buttonEl =\n",
              "          document.querySelector('#df-abcf948f-b026-4206-a770-09c1b1d257ca button.colab-df-convert');\n",
              "        buttonEl.style.display =\n",
              "          google.colab.kernel.accessAllowed ? 'block' : 'none';\n",
              "\n",
              "        async function convertToInteractive(key) {\n",
              "          const element = document.querySelector('#df-abcf948f-b026-4206-a770-09c1b1d257ca');\n",
              "          const dataTable =\n",
              "            await google.colab.kernel.invokeFunction('convertToInteractive',\n",
              "                                                     [key], {});\n",
              "          if (!dataTable) return;\n",
              "\n",
              "          const docLinkHtml = 'Like what you see? Visit the ' +\n",
              "            '<a target=\"_blank\" href=https://colab.research.google.com/notebooks/data_table.ipynb>data table notebook</a>'\n",
              "            + ' to learn more about interactive tables.';\n",
              "          element.innerHTML = '';\n",
              "          dataTable['output_type'] = 'display_data';\n",
              "          await google.colab.output.renderOutput(dataTable, element);\n",
              "          const docLink = document.createElement('div');\n",
              "          docLink.innerHTML = docLinkHtml;\n",
              "          element.appendChild(docLink);\n",
              "        }\n",
              "      </script>\n",
              "    </div>\n",
              "  </div>\n",
              "  "
            ]
          },
          "metadata": {},
          "execution_count": 60
        }
      ]
    },
    {
      "cell_type": "code",
      "source": [
        "# helper function to determine how far away a point is to a centroid\n",
        "\n",
        "centroid = [43.7598175487073,\t-79.2253215487073]\n",
        "\n",
        "def centroid_distance(lat, long, centroid):\n",
        "  c = math.sqrt((centroid[0] - lat)**2 + (centroid[1] - long)**2)\n",
        "  return c\n",
        "\n",
        "centroid_distance(temp.iloc[0]['Latitude'], temp.iloc[0]['Longitude'], centroid)\n",
        "\n",
        "#print(temp.iloc[0]['Latitude'])\n",
        "#print(centroid[0])\n",
        "#print((temp.iloc[0]['Latitude'] - centroid[0])**2)\n",
        "#print((temp.iloc[0]['Longitude'] - centroid[1])**2)"
      ],
      "metadata": {
        "colab": {
          "base_uri": "https://localhost:8080/"
        },
        "id": "XQtev6e_y4VM",
        "outputId": "70073ac5-5f56-480c-e597-4da455602610"
      },
      "execution_count": null,
      "outputs": [
        {
          "output_type": "execute_result",
          "data": {
            "text/plain": [
              "1.1054265259999559e-06"
            ]
          },
          "metadata": {},
          "execution_count": 61
        }
      ]
    },
    {
      "cell_type": "code",
      "source": [
        "# helper function to create weights for distence\n",
        "# outputs a multiplier\n",
        "\n",
        "weight1 = 1\n",
        "weight2 = 0.9\n",
        "weight3 = 0.75\n",
        "weight4 = 0.6\n",
        "#weight5 = 0.4\n",
        "#weight6 = 0.2\n",
        "\n",
        "\n",
        "def distance_weight(distance):\n",
        "  if distance <= 0.000001:                #\n",
        "    return weight1\n",
        "  elif 0.000001 < distance <= 0.000002:   #\n",
        "    return weight2\n",
        "  elif 0.000002 < distance <= 0.000003:   #\n",
        "    return weight3\n",
        "  elif 0.000003 < distance:               #\n",
        "    return weight4\n",
        "#  elif __ < distance <= ___:         #\n",
        "#    return weight5\n",
        "#  elif ___ < distance:                 #\n",
        "#    return weight6\n",
        "\n",
        "distance_weight(centroid_distance(temp.iloc[0]['Latitude'], temp.iloc[0]['Longitude'], centroid))"
      ],
      "metadata": {
        "colab": {
          "base_uri": "https://localhost:8080/"
        },
        "id": "ZlDbyk70zGaw",
        "outputId": "f4f96f48-1f57-4500-8fbe-005adae2c3a5"
      },
      "execution_count": null,
      "outputs": [
        {
          "output_type": "execute_result",
          "data": {
            "text/plain": [
              "0.9"
            ]
          },
          "metadata": {},
          "execution_count": 68
        }
      ]
    },
    {
      "cell_type": "code",
      "source": [
        "# helper function to create weights for days_since\n",
        "# outputs a multiplier\n",
        "\n",
        "weight1 = 1\n",
        "weight2 = 0.9\n",
        "weight3 = 0.75\n",
        "weight4 = 0.6\n",
        "weight5 = 0.4\n",
        "weight6 = 0.2\n",
        "\n",
        "\n",
        "def day_weight(days):\n",
        "  if days <= 30:                  #<1 month\n",
        "    return weight1\n",
        "  elif 30 < days <= 180:          #1-3 months\n",
        "    return weight2\n",
        "  elif 180 < days <= 365:         #3-12 months\n",
        "    return weight3\n",
        "  elif 365 < days <= 2*365:       #1-2 years\n",
        "    return weight4\n",
        "  elif 2*365 < days <= 5*365:     #2-5 years\n",
        "    return weight5\n",
        "  elif 5*365 < days:              #5-10 years\n",
        "    return weight6\n",
        "\n",
        "day_weight(366)\n",
        "# day_weight(df.iloc[0][\"OFFENCE\"], df.iloc[0][\"DAYS_SINCE\"])"
      ],
      "metadata": {
        "colab": {
          "base_uri": "https://localhost:8080/"
        },
        "id": "XzqrdA9z-thF",
        "outputId": "bd6fe16f-41c7-4440-9fc1-ec30d9966e11"
      },
      "execution_count": null,
      "outputs": [
        {
          "output_type": "execute_result",
          "data": {
            "text/plain": [
              "0.6"
            ]
          },
          "metadata": {},
          "execution_count": 71
        }
      ]
    },
    {
      "cell_type": "code",
      "source": [
        "# to take in k instances and give total safety score\n",
        "\n",
        "def safety_score(centroid, df):\n",
        "  '''\n",
        "  pd.dataframe -> Int\n",
        "\n",
        "  Takes in a dataframe. For each row, calculates the distance to the centroid,\n",
        "  assigns a weight for the distance and the days_since, applies weight to the\n",
        "  offence score, then sums up all the scores\n",
        "\n",
        "  '''\n",
        "  scores = []\n",
        "  for i in range(len(df)):\n",
        "    lat = df.iloc[i]['Latitude']\n",
        "    long = df.iloc[i]['Longitude']\n",
        "    offence = df.iloc[i]['OFFENCE']\n",
        "    days_since = df.iloc[i]['DAYS_SINCE']\n",
        "\n",
        "    distance = centroid_distance(lat, long, centroid)           #calc distance\n",
        "    distance_adj = distance * distance_weight(distance)         #adjust to distance weight\n",
        "    day_adj = distance_adj * day_weight(days_since)             #adjust to days weight\n",
        "    offence_adj = day_adj * offence\n",
        "    scores.append(offence_adj)\n",
        "\n",
        "  return sum(scores)\n",
        "\n",
        "c = [43.7598175487073,\t-79.2253215487073]\n",
        "safety_score(c, temp2)"
      ],
      "metadata": {
        "colab": {
          "base_uri": "https://localhost:8080/"
        },
        "id": "bw5QiFJr5kI6",
        "outputId": "a6a8e970-f7a6-4b36-d2d4-39cb7713d0c1"
      },
      "execution_count": null,
      "outputs": [
        {
          "output_type": "execute_result",
          "data": {
            "text/plain": [
              "1.747081337802221"
            ]
          },
          "metadata": {},
          "execution_count": 72
        }
      ]
    },
    {
      "cell_type": "code",
      "source": [],
      "metadata": {
        "id": "sNpHuHHoCbZl"
      },
      "execution_count": null,
      "outputs": []
    },
    {
      "cell_type": "markdown",
      "source": [
        "Notes from Yanan:\n",
        "places w higher occurences should have higher scores too - try w june_15 notes\n",
        "try to change c with the top lat/longs from june_15\n",
        "validate my function. if higher close, but longer ago. should be more safe"
      ],
      "metadata": {
        "id": "hKx-2HDfFlD9"
      }
    }
  ]
}
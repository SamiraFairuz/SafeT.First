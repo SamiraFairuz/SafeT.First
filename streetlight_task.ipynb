{
  "nbformat": 4,
  "nbformat_minor": 0,
  "metadata": {
    "colab": {
      "provenance": []
    },
    "kernelspec": {
      "name": "python3",
      "display_name": "Python 3"
    },
    "language_info": {
      "name": "python"
    }
  },
  "cells": [
    {
      "cell_type": "markdown",
      "source": [
        "Task 6.)\n",
        "Simulate Street light data:\n",
        ">a. Choose a region in the map, get the x = (longitude,latitude) of the start/end points\n",
        "\n",
        "\n",
        ">b. Generate ‘random’ street light data using x = [(l.l), ()]\n",
        "\n",
        "\n",
        ">c. ‘Black out’ some street lights\n",
        "\n",
        "\n",
        ">d. Think about how will it affect a KNN\n",
        "\n",
        "\n",
        ">e. How will it changes the way we affect Google Map API\n"
      ],
      "metadata": {
        "id": "F95rvkdP_GNQ"
      }
    },
    {
      "cell_type": "markdown",
      "source": [
        "Task to simulate streetlight data:\n",
        "\n",
        "1. Pick a random spot on the map\n",
        "\n",
        "  1.2. Identify the start and end points of the map area with latitude and longitude\n",
        "\n",
        "2. Generate a list of random streetlight data between the two latitude and longitude points (the map area)\n",
        "\n",
        "3. Answer hypothetical implementation questions"
      ],
      "metadata": {
        "id": "iGaTOQPyty6Y"
      }
    },
    {
      "cell_type": "markdown",
      "source": [
        "\n",
        "1. Spot on map\n",
        "\n",
        "  point\n",
        "\n",
        "> from: (43.652708, -79.378100)\n",
        "\n",
        "> to: (43.652798, -79.353201)\n",
        "\n"
      ],
      "metadata": {
        "id": "n100P1XexJm8"
      }
    },
    {
      "cell_type": "markdown",
      "source": [
        "2. Generate a list of points for streetlight data between those two points"
      ],
      "metadata": {
        "id": "ATxwjlVqxtfQ"
      }
    },
    {
      "cell_type": "code",
      "source": [
        "import random\n",
        "\n",
        "def generate_random_points(start_point, end_point, num_points):\n",
        "    random_points = []\n",
        "\n",
        "    # Extract the coordinates from the start and end points\n",
        "    start_lat, start_lng = start_point\n",
        "    end_lat, end_lng = end_point\n",
        "\n",
        "    # Generate random points between the start and end coordinates\n",
        "    for _ in range(num_points):\n",
        "        # Generate random latitude and longitude within the specified range\n",
        "        random_lat = random.uniform(start_lat, end_lat)\n",
        "        random_lng = random.uniform(start_lng, end_lng)\n",
        "\n",
        "        # Append the random point to the list\n",
        "        random_points.append((random_lat, random_lng))\n",
        "\n",
        "    return random_points\n",
        "\n",
        "# Define the start and end points\n",
        "start_point = (43.652708, -79.378100)\n",
        "end_point = (43.652798, -79.353201)\n",
        "\n",
        "# Generate a list of 30 random points between the start and end points\n",
        "num_points = 30\n",
        "random_points = generate_random_points(start_point, end_point, num_points)\n",
        "\n",
        "# Print the random points\n",
        "for point in random_points:\n",
        "    print(point)\n"
      ],
      "metadata": {
        "colab": {
          "base_uri": "https://localhost:8080/"
        },
        "id": "FXL1e_b-xrzo",
        "outputId": "f472f029-b1e5-40e7-95e5-c6c082f8077b"
      },
      "execution_count": null,
      "outputs": [
        {
          "output_type": "stream",
          "name": "stdout",
          "text": [
            "(43.65278315678173, -79.3573322342463)\n",
            "(43.65272223266106, -79.35321247736161)\n",
            "(43.65274383111205, -79.36860096016889)\n",
            "(43.65272027592518, -79.36868088073221)\n",
            "(43.652783988578385, -79.36861433297385)\n",
            "(43.65272480655166, -79.37634883765408)\n",
            "(43.652784988438185, -79.35630233165713)\n",
            "(43.65277057226347, -79.36698533920875)\n",
            "(43.652793875014105, -79.37203531896162)\n",
            "(43.65271412585692, -79.37077805725177)\n",
            "(43.65276256627489, -79.36476859974951)\n",
            "(43.65275121134326, -79.3549646542584)\n",
            "(43.65274817570297, -79.37587140757125)\n",
            "(43.652764183393316, -79.36033761917162)\n",
            "(43.65275769880219, -79.36814245390322)\n",
            "(43.6527862032851, -79.37633360791133)\n",
            "(43.652769765096295, -79.36704622039312)\n",
            "(43.6527643138393, -79.37760058286922)\n",
            "(43.652752646440874, -79.36671402038085)\n",
            "(43.65273784359371, -79.35911816559079)\n",
            "(43.65279541543187, -79.3559474110699)\n",
            "(43.652721726790276, -79.37805546712768)\n",
            "(43.6527701531616, -79.35814439958482)\n",
            "(43.65275842113906, -79.37740260990496)\n",
            "(43.652751073059335, -79.37405434140007)\n",
            "(43.65279400691212, -79.35409476649203)\n",
            "(43.65274332087202, -79.36322000756752)\n",
            "(43.65274036438455, -79.35445401642487)\n",
            "(43.65279564969191, -79.36710524883082)\n",
            "(43.6527082126286, -79.3541824452676)\n"
          ]
        }
      ]
    },
    {
      "cell_type": "markdown",
      "source": [
        "Modifying the code to randomize which streetlights are working and which are not."
      ],
      "metadata": {
        "id": "z1XrNopnyU2r"
      }
    },
    {
      "cell_type": "code",
      "source": [
        "import random\n",
        "\n",
        "def generate_random_points(start_point, end_point, num_points):\n",
        "    random_points = []\n",
        "\n",
        "    # Extract the coordinates from the start and end points\n",
        "    start_lat, start_lng = start_point\n",
        "    end_lat, end_lng = end_point\n",
        "\n",
        "    # Generate random points between the start and end coordinates\n",
        "    for _ in range(num_points):\n",
        "        # Generate random latitude and longitude within the specified range\n",
        "        random_lat = random.uniform(start_lat, end_lat)\n",
        "        random_lng = random.uniform(start_lng, end_lng)\n",
        "\n",
        "        # Randomly assign working or non-working state to the streetlight (True = Working, False = Non-working)\n",
        "        is_working = random.choice([True, False])\n",
        "\n",
        "        # Append the random point with its working state to the list\n",
        "        random_points.append(((random_lat, random_lng), is_working))\n",
        "\n",
        "    return random_points\n",
        "\n",
        "# Define the start and end points\n",
        "start_point = (43.652708, -79.378100)\n",
        "end_point = (43.652798, -79.353201)\n",
        "\n",
        "# Generate a list of 30 random streetlights with working/non-working states\n",
        "num_streetlights = 30\n",
        "streetlights = generate_random_points(start_point, end_point, num_streetlights)\n",
        "\n",
        "# Print the streetlights with their working states\n",
        "for point, is_working in streetlights:\n",
        "    print(f\"Streetlight: {point}, Working: {is_working}\")\n"
      ],
      "metadata": {
        "colab": {
          "base_uri": "https://localhost:8080/"
        },
        "id": "ezR8dFZWyPp7",
        "outputId": "0b164dbf-4bae-40c3-9ee1-75be8088e966"
      },
      "execution_count": null,
      "outputs": [
        {
          "output_type": "stream",
          "name": "stdout",
          "text": [
            "Streetlight: (43.65274076081932, -79.35852840639495), Working: True\n",
            "Streetlight: (43.65271870046287, -79.37286870920448), Working: True\n",
            "Streetlight: (43.652725763679975, -79.36426511359224), Working: True\n",
            "Streetlight: (43.65277796124099, -79.36835690167486), Working: False\n",
            "Streetlight: (43.65272220483885, -79.36219549947509), Working: False\n",
            "Streetlight: (43.652768278486334, -79.35395880397252), Working: True\n",
            "Streetlight: (43.65270811333604, -79.35766832581332), Working: False\n",
            "Streetlight: (43.65273381905198, -79.35815704557255), Working: False\n",
            "Streetlight: (43.65276077849477, -79.37704212933862), Working: True\n",
            "Streetlight: (43.65279210850624, -79.3683731970089), Working: False\n",
            "Streetlight: (43.65278711848642, -79.35716478683756), Working: True\n",
            "Streetlight: (43.652741574595154, -79.36038130358372), Working: False\n",
            "Streetlight: (43.65271743202767, -79.37722429444487), Working: False\n",
            "Streetlight: (43.65271752639948, -79.37444509380265), Working: False\n",
            "Streetlight: (43.65275772718323, -79.36876449309543), Working: True\n",
            "Streetlight: (43.65272876175047, -79.37088544032876), Working: True\n",
            "Streetlight: (43.6527926901315, -79.3701823382825), Working: False\n",
            "Streetlight: (43.65279624956836, -79.37535185832456), Working: False\n",
            "Streetlight: (43.652778628909026, -79.37337496498142), Working: True\n",
            "Streetlight: (43.65273823361251, -79.35627841343084), Working: False\n",
            "Streetlight: (43.652738161016735, -79.36167270578267), Working: False\n",
            "Streetlight: (43.652754863924386, -79.36407522960259), Working: True\n",
            "Streetlight: (43.65278830366223, -79.36357850894285), Working: True\n",
            "Streetlight: (43.6527764234165, -79.3547485071056), Working: False\n",
            "Streetlight: (43.65277434567186, -79.3613601857864), Working: True\n",
            "Streetlight: (43.652715626715, -79.37688678792362), Working: False\n",
            "Streetlight: (43.65277081881684, -79.35618490797177), Working: True\n",
            "Streetlight: (43.65276560889196, -79.3710391551686), Working: False\n",
            "Streetlight: (43.652746416877136, -79.35393585645632), Working: False\n",
            "Streetlight: (43.652747225783166, -79.37441199585238), Working: False\n"
          ]
        }
      ]
    },
    {
      "cell_type": "markdown",
      "source": [
        "3. Think about how this will affect a KNN\n",
        "\n",
        "When some streetlights are marked as working and some as non-working, it can impact a KNN model in several ways.\n",
        "\n",
        "- the working state needs to be properly represented as a feature in the model\n",
        "- accurate labeling of streetlights is crucial for training the model effectively\n",
        "- the choice of distance metric becomes important, as it should consider the working state when calculating similarities\n",
        "- imbalanced classes may require techniques like oversampling or weighted distances to address biases\n",
        "- model evaluation should go beyond accuracy and consider metrics like precision, recall, and F1-score to assess how well the model captures the working state of streetlights\n",
        "\n",
        "\n",
        "\n",
        "\n",
        "\n",
        "---\n",
        "\n",
        "\n",
        "4. How will it changes the way we affect Google Map API\n",
        "\n",
        "Integrating the streetlight data, including the working or non-working state, with Google APIs can significantly enhance various aspects of location-based services\n",
        "- by incorporating this data into mapping and geolocation features, users can visualize well-lit areas and choose safer routes\n",
        "- when utilizing the Google Places API, the working state of streetlights can improve search results by considering the lighting conditions around places of interest. This integration allows for more context-aware applications and services, empowering users to make informed decisions and enhancing their overall experience while prioritizing safety and visibility.\n",
        "\n",
        "\n"
      ],
      "metadata": {
        "id": "I_GOB2_S7Q1L"
      }
    }
  ]
}